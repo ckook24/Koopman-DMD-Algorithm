{
 "cells": [
  {
   "cell_type": "code",
   "execution_count": null,
   "id": "2e9140c1",
   "metadata": {},
   "outputs": [],
   "source": [
    "import numpy as np\n",
    "import pandas as pd\n",
    "import matplotlib.pyplot as plt\n",
    "import seaborn as sns\n",
    "from scipy.linalg import svd"
   ]
  },
  {
   "cell_type": "code",
   "execution_count": null,
   "id": "f512f4a0",
   "metadata": {},
   "outputs": [],
   "source": [
    "apikey1 = '98WO4EK4CGOBTPQR'\n",
    "apikey2 = '7HTSH49XTMKQSSUI'\n",
    "premiumkey = 'D6W40P80TZPAE9QB'"
   ]
  },
  {
   "cell_type": "code",
   "execution_count": null,
   "id": "c00911ef",
   "metadata": {},
   "outputs": [],
   "source": [
    "#This one gives adjusted \n",
    "def TimeSeriesIntraday_df(stock_name):\n",
    "    url = f'https://www.alphavantage.co/query?function=TIME_SERIES_INTRADAY&symbol={stock_name}&extended_hours=false&interval=1min&outputsize=full&apikey={premiumkey}&datatype=csv'\n",
    "    df = pd.read_csv(url)\n",
    "    df['symbol'] = stock_name\n",
    "    return df\n",
    "    "
   ]
  },
  {
   "cell_type": "code",
   "execution_count": null,
   "id": "4e80c434",
   "metadata": {},
   "outputs": [],
   "source": [
    "def get_intraday_prices_chg(portfolio):\n",
    "    \"\"\"\n",
    "    Returns a DataFrame of aligned close prices for the given portfolio,\n",
    "    and a percentage change array.\n",
    "    \"\"\"\n",
    "    data = {}\n",
    "\n",
    "    # Build dict of Series indexed by timestamp\n",
    "    for s in portfolio:\n",
    "        df = TimeSeriesIntraday_df(s)\n",
    "        df = df.sort_values('timestamp')  # ensure ascending order\n",
    "        prices = df.set_index('timestamp')['close']\n",
    "        data[s] = prices\n",
    "\n",
    "    # Align on common timestamps only\n",
    "    df_combined = pd.concat(data.values(), axis=1, join='inner')\n",
    "    df_combined.columns = data.keys()  # Rename columns to match symbols\n",
    "    df_combined = df_combined.sort_index()  # Ensure datetime order ascending\n",
    "\n",
    "    df_combined['mean'] = df_combined.mean(axis=1)\n",
    "    price_arr = df_combined.to_numpy().T  # shape: (assets+1, time steps)\n",
    "\n",
    "    # Percent change calculation (skip 'mean' row in price_arr)\n",
    "    return_arr = (price_arr[:-1, 1:] - price_arr[:-1, :-1]) / price_arr[:-1, :-1] * 100\n",
    "\n",
    "    return price_arr, return_arr\n"
   ]
  },
  {
   "cell_type": "code",
   "execution_count": null,
   "id": "d8db1fb9",
   "metadata": {},
   "outputs": [],
   "source": [
    "portfolio_daily = ['AAPL', 'MSFT', 'GOOGL', 'AMZN', 'META', 'NVDA', 'TSLA', 'NDAQ']\n",
    "portfolio = ['AAPL', 'MSFT', 'GOOGL', 'AMZN', 'META', 'NVDA', 'TSLA']"
   ]
  },
  {
   "cell_type": "code",
   "execution_count": null,
   "id": "0082c443",
   "metadata": {},
   "outputs": [],
   "source": [
    "intraday_data, intraday_chg_data = get_intraday_prices(portfolio_daily)"
   ]
  }
 ],
 "metadata": {
  "language_info": {
   "name": "python"
  }
 },
 "nbformat": 4,
 "nbformat_minor": 5
}
