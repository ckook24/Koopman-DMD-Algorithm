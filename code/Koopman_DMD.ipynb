{
 "cells": [
  {
   "cell_type": "code",
   "execution_count": 34,
   "id": "eee7fa41-1c60-4ca2-8ab4-a4cd5c4da762",
   "metadata": {},
   "outputs": [],
   "source": [
    "import numpy as np\n",
    "import pandas as pd\n",
    "import matplotlib.pyplot as plt\n",
    "import seaborn as sns\n",
    "from scipy.linalg import svd"
   ]
  },
  {
   "cell_type": "code",
   "execution_count": 5,
   "id": "abd0e6b1",
   "metadata": {},
   "outputs": [],
   "source": [
    "from urllib.parse import urlparse, parse_qs\n",
    "\n",
    "#if i want to include SMA/stock data for same company, need to scrape function not just symbol\n",
    "def TimeSeriesDaily_df(stock_name):\n",
    "    \"\"\"\n",
    "    Read a CSV file from a URL and return a DataFrame with symbol as the last column.\n",
    "    \"\"\"\n",
    "    url = f'https://www.alphavantage.co/query?function=TIME_SERIES_DAILY&symbol={stock_name}&apikey=98WO4EK4CGOBTPQR&datatype=csv'\n",
    "    qs = parse_qs(urlparse(url).query)\n",
    "    symbol = qs[\"symbol\"][0]\n",
    "    df = pd.read_csv(url)\n",
    "    df['symbol'] = symbol\n",
    "    return df\n",
    "    "
   ]
  },
  {
   "cell_type": "code",
   "execution_count": null,
   "id": "2d73dd99",
   "metadata": {},
   "outputs": [
    {
     "data": {
      "text/html": [
       "<div>\n",
       "<style scoped>\n",
       "    .dataframe tbody tr th:only-of-type {\n",
       "        vertical-align: middle;\n",
       "    }\n",
       "\n",
       "    .dataframe tbody tr th {\n",
       "        vertical-align: top;\n",
       "    }\n",
       "\n",
       "    .dataframe thead th {\n",
       "        text-align: right;\n",
       "    }\n",
       "</style>\n",
       "<table border=\"1\" class=\"dataframe\">\n",
       "  <thead>\n",
       "    <tr style=\"text-align: right;\">\n",
       "      <th></th>\n",
       "      <th>timestamp</th>\n",
       "      <th>open</th>\n",
       "      <th>high</th>\n",
       "      <th>low</th>\n",
       "      <th>close</th>\n",
       "      <th>volume</th>\n",
       "      <th>symbol</th>\n",
       "    </tr>\n",
       "  </thead>\n",
       "  <tbody>\n",
       "    <tr>\n",
       "      <th>0</th>\n",
       "      <td>2025-05-12</td>\n",
       "      <td>210.97</td>\n",
       "      <td>211.2679</td>\n",
       "      <td>206.7500</td>\n",
       "      <td>210.79</td>\n",
       "      <td>63775814</td>\n",
       "      <td>AAPL</td>\n",
       "    </tr>\n",
       "    <tr>\n",
       "      <th>1</th>\n",
       "      <td>2025-05-09</td>\n",
       "      <td>199.00</td>\n",
       "      <td>200.5399</td>\n",
       "      <td>197.5350</td>\n",
       "      <td>198.53</td>\n",
       "      <td>36453923</td>\n",
       "      <td>AAPL</td>\n",
       "    </tr>\n",
       "    <tr>\n",
       "      <th>2</th>\n",
       "      <td>2025-05-08</td>\n",
       "      <td>197.72</td>\n",
       "      <td>200.0500</td>\n",
       "      <td>194.6796</td>\n",
       "      <td>197.49</td>\n",
       "      <td>50478872</td>\n",
       "      <td>AAPL</td>\n",
       "    </tr>\n",
       "    <tr>\n",
       "      <th>3</th>\n",
       "      <td>2025-05-07</td>\n",
       "      <td>199.17</td>\n",
       "      <td>199.4400</td>\n",
       "      <td>193.2500</td>\n",
       "      <td>196.25</td>\n",
       "      <td>68616943</td>\n",
       "      <td>AAPL</td>\n",
       "    </tr>\n",
       "    <tr>\n",
       "      <th>4</th>\n",
       "      <td>2025-05-06</td>\n",
       "      <td>198.21</td>\n",
       "      <td>200.6500</td>\n",
       "      <td>197.0200</td>\n",
       "      <td>198.51</td>\n",
       "      <td>51216482</td>\n",
       "      <td>AAPL</td>\n",
       "    </tr>\n",
       "  </tbody>\n",
       "</table>\n",
       "</div>"
      ],
      "text/plain": [
       "    timestamp    open      high       low   close    volume symbol\n",
       "0  2025-05-12  210.97  211.2679  206.7500  210.79  63775814   AAPL\n",
       "1  2025-05-09  199.00  200.5399  197.5350  198.53  36453923   AAPL\n",
       "2  2025-05-08  197.72  200.0500  194.6796  197.49  50478872   AAPL\n",
       "3  2025-05-07  199.17  199.4400  193.2500  196.25  68616943   AAPL\n",
       "4  2025-05-06  198.21  200.6500  197.0200  198.51  51216482   AAPL"
      ]
     },
     "execution_count": 3,
     "metadata": {},
     "output_type": "execute_result"
    }
   ],
   "source": [
    "#Example: AAPL stock past 100 days daily time series data\n",
    "aapl_df = TimeSeriesDaily_df('AAPL')\n",
    "aapl_df.head()"
   ]
  },
  {
   "cell_type": "code",
   "execution_count": 6,
   "id": "57c0f1f7",
   "metadata": {},
   "outputs": [
    {
     "data": {
      "text/html": [
       "<div>\n",
       "<style scoped>\n",
       "    .dataframe tbody tr th:only-of-type {\n",
       "        vertical-align: middle;\n",
       "    }\n",
       "\n",
       "    .dataframe tbody tr th {\n",
       "        vertical-align: top;\n",
       "    }\n",
       "\n",
       "    .dataframe thead th {\n",
       "        text-align: right;\n",
       "    }\n",
       "</style>\n",
       "<table border=\"1\" class=\"dataframe\">\n",
       "  <thead>\n",
       "    <tr style=\"text-align: right;\">\n",
       "      <th></th>\n",
       "      <th>timestamp</th>\n",
       "      <th>open</th>\n",
       "      <th>high</th>\n",
       "      <th>low</th>\n",
       "      <th>close</th>\n",
       "      <th>volume</th>\n",
       "      <th>symbol</th>\n",
       "    </tr>\n",
       "  </thead>\n",
       "  <tbody>\n",
       "    <tr>\n",
       "      <th>0</th>\n",
       "      <td>2025-05-12</td>\n",
       "      <td>445.94</td>\n",
       "      <td>449.37</td>\n",
       "      <td>439.7800</td>\n",
       "      <td>449.26</td>\n",
       "      <td>22821935</td>\n",
       "      <td>MSFT</td>\n",
       "    </tr>\n",
       "    <tr>\n",
       "      <th>1</th>\n",
       "      <td>2025-05-09</td>\n",
       "      <td>440.00</td>\n",
       "      <td>440.74</td>\n",
       "      <td>435.8800</td>\n",
       "      <td>438.73</td>\n",
       "      <td>15324233</td>\n",
       "      <td>MSFT</td>\n",
       "    </tr>\n",
       "    <tr>\n",
       "      <th>2</th>\n",
       "      <td>2025-05-08</td>\n",
       "      <td>437.93</td>\n",
       "      <td>443.67</td>\n",
       "      <td>435.6600</td>\n",
       "      <td>438.17</td>\n",
       "      <td>23491330</td>\n",
       "      <td>MSFT</td>\n",
       "    </tr>\n",
       "    <tr>\n",
       "      <th>3</th>\n",
       "      <td>2025-05-07</td>\n",
       "      <td>433.84</td>\n",
       "      <td>438.12</td>\n",
       "      <td>431.1103</td>\n",
       "      <td>433.35</td>\n",
       "      <td>23307241</td>\n",
       "      <td>MSFT</td>\n",
       "    </tr>\n",
       "    <tr>\n",
       "      <th>4</th>\n",
       "      <td>2025-05-06</td>\n",
       "      <td>432.20</td>\n",
       "      <td>437.73</td>\n",
       "      <td>431.1700</td>\n",
       "      <td>433.31</td>\n",
       "      <td>15104204</td>\n",
       "      <td>MSFT</td>\n",
       "    </tr>\n",
       "  </tbody>\n",
       "</table>\n",
       "</div>"
      ],
      "text/plain": [
       "    timestamp    open    high       low   close    volume symbol\n",
       "0  2025-05-12  445.94  449.37  439.7800  449.26  22821935   MSFT\n",
       "1  2025-05-09  440.00  440.74  435.8800  438.73  15324233   MSFT\n",
       "2  2025-05-08  437.93  443.67  435.6600  438.17  23491330   MSFT\n",
       "3  2025-05-07  433.84  438.12  431.1103  433.35  23307241   MSFT\n",
       "4  2025-05-06  432.20  437.73  431.1700  433.31  15104204   MSFT"
      ]
     },
     "execution_count": 6,
     "metadata": {},
     "output_type": "execute_result"
    }
   ],
   "source": [
    "msft_df = TimeSeriesDaily_df('MSFT')\n",
    "msft_df.head()"
   ]
  },
  {
   "cell_type": "code",
   "execution_count": null,
   "id": "a6f146b6",
   "metadata": {},
   "outputs": [],
   "source": [
    "#would need to choose which data I want to use (open, high, low, close volumn) and it's easy to make a function that makes a series of this data\n",
    "#Example: Close price\n",
    "aapl_close = aapl_df['close'].rename('AAPL close')\n",
    "msft_close = msft_df['close'].rename('MSFT close')\n",
    "date = aapl_df['timestamp']\n",
    "data = [date, aapl_close, msft_close]"
   ]
  },
  {
   "cell_type": "code",
   "execution_count": 24,
   "id": "ecf72db5",
   "metadata": {},
   "outputs": [],
   "source": [
    "#take multiple data (dtype pd.Series) and make into a data matrix\n",
    "def make_data_matrix(data: list[pd.Series]):\n",
    "    \"\"\" \n",
    "    Make M1 and M2 data matrices from a list of Series. The first element of the list\n",
    "    must be the dates (time stamp) and the rest are the data series.\n",
    "    \"\"\"\n",
    "    M1_df = pd.DataFrame(data[1:])\n",
    "    M1_df.index = [s.name for s in data[1:]]\n",
    "    M1_df.columns = data[0]\n",
    "    A = M1_df.to_numpy()\n",
    "    M1 = A[:, :-1]\n",
    "    M2 = A[:, 1:]\n",
    "    return M1, M2\n"
   ]
  },
  {
   "cell_type": "code",
   "execution_count": 21,
   "id": "41a4d522",
   "metadata": {},
   "outputs": [],
   "source": [
    "M1, M2 = make_data_matrix(data)\n"
   ]
  },
  {
   "cell_type": "code",
   "execution_count": 43,
   "id": "dbc187dd",
   "metadata": {},
   "outputs": [
    {
     "ename": "ValueError",
     "evalue": "matmul: Input operand 1 has a mismatch in its core dimension 0, with gufunc signature (n?,k),(k,m?)->(n?,m?) (size 2 is different from 99)",
     "output_type": "error",
     "traceback": [
      "\u001b[0;31m---------------------------------------------------------------------------\u001b[0m",
      "\u001b[0;31mValueError\u001b[0m                                Traceback (most recent call last)",
      "Cell \u001b[0;32mIn[43], line 5\u001b[0m\n\u001b[1;32m      3\u001b[0m S \u001b[38;5;241m=\u001b[39m np\u001b[38;5;241m.\u001b[39mdiag(s)\n\u001b[1;32m      4\u001b[0m s_inv \u001b[38;5;241m=\u001b[39m np\u001b[38;5;241m.\u001b[39mlinalg\u001b[38;5;241m.\u001b[39minv(S)\n\u001b[0;32m----> 5\u001b[0m A_tild \u001b[38;5;241m=\u001b[39m \u001b[43mU\u001b[49m\u001b[38;5;241;43m.\u001b[39;49m\u001b[43mT\u001b[49m\u001b[38;5;129;43m@M2\u001b[39;49m\u001b[38;5;129;43m@Vt\u001b[39;49m\u001b[38;5;241;43m.\u001b[39;49m\u001b[43mT\u001b[49m\u001b[38;5;129;43m@s_inv\u001b[39;49m\n",
      "\u001b[0;31mValueError\u001b[0m: matmul: Input operand 1 has a mismatch in its core dimension 0, with gufunc signature (n?,k),(k,m?)->(n?,m?) (size 2 is different from 99)"
     ]
    }
   ],
   "source": [
    "M1_centered = M1 - np.mean(M1)\n",
    "U, s, Vt = np.linalg.svd(M1_centered)\n",
    "S = np.diag(s)\n",
    "s_inv = np.linalg.inv(S)\n",
    "A_tild = U.T@M2@Vt.T@s_inv\n"
   ]
  },
  {
   "cell_type": "code",
   "execution_count": null,
   "id": "f0f2c8fe",
   "metadata": {},
   "outputs": [],
   "source": []
  }
 ],
 "metadata": {
  "kernelspec": {
   "display_name": ".venv",
   "language": "python",
   "name": "python3"
  },
  "language_info": {
   "codemirror_mode": {
    "name": "ipython",
    "version": 3
   },
   "file_extension": ".py",
   "mimetype": "text/x-python",
   "name": "python",
   "nbconvert_exporter": "python",
   "pygments_lexer": "ipython3",
   "version": "3.13.1"
  }
 },
 "nbformat": 4,
 "nbformat_minor": 5
}
