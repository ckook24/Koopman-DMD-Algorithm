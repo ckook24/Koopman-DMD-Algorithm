{
 "cells": [
  {
   "cell_type": "code",
   "execution_count": 2,
   "id": "eee7fa41-1c60-4ca2-8ab4-a4cd5c4da762",
   "metadata": {},
   "outputs": [],
   "source": [
    "import numpy as np\n",
    "import pandas as pd\n",
    "import matplotlib.pyplot as plt\n",
    "import seaborn as sns\n",
    "from scipy.linalg import svd"
   ]
  },
  {
   "cell_type": "code",
   "execution_count": 17,
   "id": "abd0e6b1",
   "metadata": {},
   "outputs": [],
   "source": [
    "#if i want to include SMA/stock data for same company, need to scrape function not just symbol\n",
    "def TimeSeriesDaily_df(stock_name):\n",
    "    \"\"\"\n",
    "    Read a CSV file from a URL and return a DataFrame with symbol as the last column.\n",
    "    \"\"\"\n",
    "    url = f'https://www.alphavantage.co/query?function=TIME_SERIES_DAILY&symbol={stock_name}&outputsize=full&apikey=98WO4EK4CGOBTPQR&datatype=csv'\n",
    "    df = pd.read_csv(url)\n",
    "    df['symbol'] = stock_name\n",
    "    return df\n",
    "    "
   ]
  },
  {
   "cell_type": "code",
   "execution_count": null,
   "id": "25456c8f",
   "metadata": {},
   "outputs": [],
   "source": [
    "def get_close_prices(portfolio):\n",
    "    \"\"\"\n",
    "    Returns a DataFrame of close prices for the given portfolio.\n",
    "    \"\"\"\n",
    "    data = {}\n",
    "    for s in portfolio:\n",
    "        df = TimeSeriesDaily_df(s)\n",
    "        prices = np.array(df['close'])[::-1]\n",
    "        data[s] = prices\n",
    "    df = pd.DataFrame(data)\n",
    "    df['mean'] = df.mean(axis=1)\n",
    "    data_arr = df.to_numpy()\n",
    "    return data_arr.T"
   ]
  },
  {
   "cell_type": "code",
   "execution_count": 66,
   "id": "dbc187dd",
   "metadata": {},
   "outputs": [],
   "source": [
    "def predict_price(M1, M2, l):\n",
    "    ''' \n",
    "    Uses Koopman related DMD algorithm to predict future prices.\n",
    "    l is the number of days in the future to predict\n",
    "    ''' \n",
    "    U, s, Vt = np.linalg.svd(M1, full_matrices=False)\n",
    "    Sigma_inv = np.diag(1.0/s)\n",
    "    A_tilde = U.T @ M2 @ Vt.T @ Sigma_inv\n",
    "    evals, evecs = np.linalg.eig(A_tilde)\n",
    "    Phi = U @ evecs\n",
    "    x0 = M1[:, 0].reshape((-1,1))\n",
    "    b = np.linalg.pinv(Phi) @ x0\n",
    "\n",
    "    n, r = Phi.shape\n",
    "    preds = np.zeros((n, l))\n",
    "    for t in range(1, l+1):\n",
    "        D = np.diag(np.exp(np.log(evals) * t))\n",
    "        x_t = Phi @ D @ b\n",
    "        preds[:, t-1] = x_t.ravel().real\n",
    "    \n",
    "    return preds"
   ]
  },
  {
   "cell_type": "code",
   "execution_count": 84,
   "id": "c0f5c05a",
   "metadata": {},
   "outputs": [],
   "source": [
    "def directional_accuracy(prediction, actual):\n",
    "    '''\n",
    "    Returns the accuracy of the predictions. The model is accurate if\n",
    "    the predicted direction of the price change matches the actual direction.\n",
    "    '''\n",
    "    if prediction.shape != actual.shape:\n",
    "        raise ValueError(\"Prediction and actual arrays must have the same shape.\")\n",
    "\n",
    "    diff_pred = prediction[:, 1:] - prediction[:, :-1]  \n",
    "    diff_act = actual[:, 1:] - actual[:, :-1]     \n",
    "    \n",
    "    correct = np.sum(diff_pred * diff_act > 0)\n",
    "    return correct/diff_pred.size\n",
    "    "
   ]
  },
  {
   "cell_type": "code",
   "execution_count": 96,
   "id": "2e297dfe",
   "metadata": {},
   "outputs": [],
   "source": [
    "home_construction_portfolio = ['DHI', 'LEN', 'PHM', 'TOL', 'NVR', 'HD', 'LOW', 'SHW', 'SPY']"
   ]
  },
  {
   "cell_type": "code",
   "execution_count": 99,
   "id": "27faaaef",
   "metadata": {},
   "outputs": [],
   "source": [
    "def find_hotspot(data_arr):\n",
    "    ''' \n",
    "    Finds potential hotspots based on the directional accuracy of price predictions. \n",
    "    Uses past 100 days of data to run through a range of parameters (m, l) to find\n",
    "    combinations that yield an accuracy greater than 0.53.\n",
    "\n",
    "    Returns a list of tuples (m, l, accuracy) for all combinations tested.\n",
    "    '''\n",
    "    accuracy_scores = []\n",
    "    potential_hotspots = []\n",
    "\n",
    "    for m in range(4, 15):\n",
    "        for l in range(2, 10):\n",
    "            scores = []\n",
    "            for t in range(m, len(data_arr)-l): \n",
    "                M = data_arr[:, t-m:t]\n",
    "                M1 = M[:, :-1]\n",
    "                M2 = M[:, 1:]\n",
    "                preds = predict_price(M1, M2, l)[: -1, :] #drop the mean column\n",
    "                actual = data_arr[:, t:t+l][: -1, :]\n",
    "                scores.append(directional_accuracy(preds, actual))\n",
    "            accuracy = np.sum(scores) / len(scores)\n",
    "            accuracy_scores.append((m, l, accuracy))\n",
    "            if accuracy > 0.53: #arbitrary threshold\n",
    "                potential_hotspots.append((m, l, accuracy))\n",
    "    return accuracy_scores, potential_hotspots"
   ]
  },
  {
   "cell_type": "markdown",
   "id": "30cafa89",
   "metadata": {},
   "source": [
    "I want to compare 2 strategies based on their P&L. \n",
    "\n",
    "- Strategy 1: split up 10 years of data into 100 day increments. Then find a hotspot using the first 100 days, invest l future days; recalibrate the hotspot after l days, and repeat on 10 years of data.\n",
    "- Strategy 2: Find a hotspot over 2 years of data, then use that hotspot for the next 6 months or something. Then recalibrate.\n",
    "- Strategy 3: Find a hotspot over 3 years, and use the same hotspot for the next 7 years.\n",
    "\n",
    "Compare all these to the benchmark S&P 500."
   ]
  },
  {
   "cell_type": "code",
   "execution_count": 97,
   "id": "0b96c8b5",
   "metadata": {},
   "outputs": [],
   "source": [
    "def strategy_1(portfolio):\n",
    "    '''\n",
    "    Strategy 1: split up 10 years of data into 100 day increments.\n",
    "    Then find a hotspot using the first 100 days, invest l future days; \n",
    "    recalibrate the hotspot after l days, and repeat on 10 years of data.\n",
    "    '''\n",
    "    hist_data_10_yrs = get_close_prices(portfolio)\n",
    "    n = hist_data_10_yrs.shape[1]\n",
    "    hist_data_10_yrs = hist_data_10_yrs[:, n//2:] # Use only the most recent 10 years of data\n",
    "\n",
    "    delta = 0\n",
    "    while delta < hist_data_10_yrs.shape[1]-100: #can adjust this 100 to change the number of days used to find hotspots\n",
    "        data_arr = hist_data_10_yrs[:, delta:delta+100]\n",
    "        accuracy_scores, potential_hotspots = find_hotspot(data_arr)\n",
    "        if potential_hotspots:\n",
    "            sorted_by_score = sorted(potential_hotspots, key=lambda tpl: tpl[2], reverse=True)\n",
    "            #here we can build and call a function that checks if the average of its neighbors are also > 51% \n",
    "            #for now will just take the highest accuracy score and use the corresponding (m,l) as the hotspot\n",
    "            m, l, accuracy = sorted_by_score[0]\n",
    "            #build and call a function that invests and tracks P&L using (m,l) hotspot\n",
    "            delta += l"
   ]
  },
  {
   "cell_type": "code",
   "execution_count": null,
   "id": "e9644ff1",
   "metadata": {},
   "outputs": [
    {
     "name": "stderr",
     "output_type": "stream",
     "text": [
      "/var/folders/h_/72q4z_1n5nn46z4ptpqc7y4h0000gn/T/ipykernel_12856/2942774990.py:17: RuntimeWarning: invalid value encountered in log\n",
      "  D = np.diag(np.exp(np.log(evals) * t))\n"
     ]
    }
   ],
   "source": [
    "accuracy_scores, potential_hotspots = find_hotspot(home_construction_portfolio)"
   ]
  },
  {
   "cell_type": "code",
   "execution_count": 89,
   "id": "154e32ff",
   "metadata": {},
   "outputs": [
    {
     "data": {
      "text/plain": [
       "[(12, 2, np.float64(0.5569767441860466)),\n",
       " (12, 3, np.float64(0.5441176470588236)),\n",
       " (12, 4, np.float64(0.5492063492063493)),\n",
       " (14, 2, np.float64(0.5440476190476191)),\n",
       " (14, 3, np.float64(0.533132530120482))]"
      ]
     },
     "execution_count": 89,
     "metadata": {},
     "output_type": "execute_result"
    }
   ],
   "source": [
    "potential_hotspots"
   ]
  },
  {
   "cell_type": "code",
   "execution_count": null,
   "id": "381e3999",
   "metadata": {},
   "outputs": [
    {
     "data": {
      "image/png": "[encoded data removed]",
      "text/plain": [
       "<Figure size 800x600 with 2 Axes>"
      ]
     },
     "metadata": {},
     "output_type": "display_data"
    }
   ],
   "source": [
    "\n",
    "ms = sorted({m for m, l, score in accuracy_scores})\n",
    "ls = sorted({l for m, l, score in accuracy_scores})\n",
    "\n",
    "heatmap = np.zeros((len(ls), len(ms)))\n",
    "\n",
    "for (m_val, l_val, score) in accuracy_scores:\n",
    "    i = ls.index(l_val)   \n",
    "    j = ms.index(m_val) \n",
    "    heatmap[i, j] = score\n",
    "\n",
    "fig, ax = plt.subplots(figsize=(8, 6))\n",
    "im = ax.imshow(heatmap, origin='lower', aspect='auto')\n",
    "\n",
    "ax.set_xticks(np.arange(len(ms)))\n",
    "ax.set_xticklabels(ms)\n",
    "ax.set_yticks(np.arange(len(ls)))\n",
    "ax.set_yticklabels(ls)\n",
    "\n",
    "ax.set_xticks(np.arange(len(ms) + 1) - 0.5, minor=True)\n",
    "ax.set_yticks(np.arange(len(ls) + 1) - 0.5, minor=True)\n",
    "\n",
    "ax.grid(which='minor', color='white', linestyle='-', linewidth=1)\n",
    "\n",
    "ax.tick_params(which='minor', bottom=False, left=False)\n",
    "\n",
    "ax.set_xlabel('m (look-back window)')\n",
    "ax.set_ylabel('l (prediction horizon)')\n",
    "ax.set_title('Accuracy Heatmap')\n",
    "\n",
    "cbar = fig.colorbar(im, ax=ax)\n",
    "cbar.set_label('Directional Accuracy')\n",
    "\n",
    "plt.tight_layout()\n",
    "plt.show()"
   ]
  },
  {
   "cell_type": "code",
   "execution_count": null,
   "id": "ec75c3b6",
   "metadata": {},
   "outputs": [],
   "source": []
  }
 ],
 "metadata": {
  "kernelspec": {
   "display_name": ".venv",
   "language": "python",
   "name": "python3"
  },
  "language_info": {
   "codemirror_mode": {
    "name": "ipython",
    "version": 3
   },
   "file_extension": ".py",
   "mimetype": "text/x-python",
   "name": "python",
   "nbconvert_exporter": "python",
   "pygments_lexer": "ipython3",
   "version": "3.13.1"
  }
 },
 "nbformat": 4,
 "nbformat_minor": 5
}
