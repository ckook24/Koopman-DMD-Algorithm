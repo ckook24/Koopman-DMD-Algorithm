{
 "cells": [
  {
   "cell_type": "code",
   "execution_count": 3,
   "id": "eee7fa41-1c60-4ca2-8ab4-a4cd5c4da762",
   "metadata": {},
   "outputs": [],
   "source": [
    "import numpy as np\n",
    "import pandas as pd\n",
    "import matplotlib.pyplot as plt\n",
    "import seaborn as sns\n",
    "from scipy.linalg import svd"
   ]
  },
  {
   "cell_type": "code",
   "execution_count": 4,
   "id": "abd0e6b1",
   "metadata": {},
   "outputs": [],
   "source": [
    "from urllib.parse import urlparse, parse_qs\n",
    "\n",
    "#if i want to include SMA/stock data for same company, need to scrape function not just symbol\n",
    "def TimeSeriesDaily_df(stock_name):\n",
    "    \"\"\"\n",
    "    Read a CSV file from a URL and return a DataFrame with symbol as the last column.\n",
    "    \"\"\"\n",
    "    url = f'https://www.alphavantage.co/query?function=TIME_SERIES_DAILY&symbol={stock_name}&apikey=98WO4EK4CGOBTPQR&datatype=csv'\n",
    "    qs = parse_qs(urlparse(url).query)\n",
    "    symbol = qs[\"symbol\"][0]\n",
    "    df = pd.read_csv(url)\n",
    "    df['symbol'] = symbol\n",
    "    return df\n",
    "    "
   ]
  },
  {
   "cell_type": "code",
   "execution_count": null,
   "id": "2d73dd99",
   "metadata": {},
   "outputs": [
    {
     "data": {
      "text/html": [
       "<div>\n",
       "<style scoped>\n",
       "    .dataframe tbody tr th:only-of-type {\n",
       "        vertical-align: middle;\n",
       "    }\n",
       "\n",
       "    .dataframe tbody tr th {\n",
       "        vertical-align: top;\n",
       "    }\n",
       "\n",
       "    .dataframe thead th {\n",
       "        text-align: right;\n",
       "    }\n",
       "</style>\n",
       "<table border=\"1\" class=\"dataframe\">\n",
       "  <thead>\n",
       "    <tr style=\"text-align: right;\">\n",
       "      <th></th>\n",
       "      <th>timestamp</th>\n",
       "      <th>open</th>\n",
       "      <th>high</th>\n",
       "      <th>low</th>\n",
       "      <th>close</th>\n",
       "      <th>volume</th>\n",
       "      <th>symbol</th>\n",
       "    </tr>\n",
       "  </thead>\n",
       "  <tbody>\n",
       "    <tr>\n",
       "      <th>0</th>\n",
       "      <td>2025-05-15</td>\n",
       "      <td>210.95</td>\n",
       "      <td>212.9600</td>\n",
       "      <td>209.5400</td>\n",
       "      <td>211.45</td>\n",
       "      <td>45029473</td>\n",
       "      <td>AAPL</td>\n",
       "    </tr>\n",
       "    <tr>\n",
       "      <th>1</th>\n",
       "      <td>2025-05-14</td>\n",
       "      <td>212.43</td>\n",
       "      <td>213.9400</td>\n",
       "      <td>210.5801</td>\n",
       "      <td>212.33</td>\n",
       "      <td>49325825</td>\n",
       "      <td>AAPL</td>\n",
       "    </tr>\n",
       "    <tr>\n",
       "      <th>2</th>\n",
       "      <td>2025-05-13</td>\n",
       "      <td>210.43</td>\n",
       "      <td>213.4000</td>\n",
       "      <td>209.0000</td>\n",
       "      <td>212.93</td>\n",
       "      <td>51909332</td>\n",
       "      <td>AAPL</td>\n",
       "    </tr>\n",
       "    <tr>\n",
       "      <th>3</th>\n",
       "      <td>2025-05-12</td>\n",
       "      <td>210.97</td>\n",
       "      <td>211.2679</td>\n",
       "      <td>206.7500</td>\n",
       "      <td>210.79</td>\n",
       "      <td>63775814</td>\n",
       "      <td>AAPL</td>\n",
       "    </tr>\n",
       "    <tr>\n",
       "      <th>4</th>\n",
       "      <td>2025-05-09</td>\n",
       "      <td>199.00</td>\n",
       "      <td>200.5399</td>\n",
       "      <td>197.5350</td>\n",
       "      <td>198.53</td>\n",
       "      <td>36453923</td>\n",
       "      <td>AAPL</td>\n",
       "    </tr>\n",
       "  </tbody>\n",
       "</table>\n",
       "</div>"
      ],
      "text/plain": [
       "    timestamp    open      high       low   close    volume symbol\n",
       "0  2025-05-15  210.95  212.9600  209.5400  211.45  45029473   AAPL\n",
       "1  2025-05-14  212.43  213.9400  210.5801  212.33  49325825   AAPL\n",
       "2  2025-05-13  210.43  213.4000  209.0000  212.93  51909332   AAPL\n",
       "3  2025-05-12  210.97  211.2679  206.7500  210.79  63775814   AAPL\n",
       "4  2025-05-09  199.00  200.5399  197.5350  198.53  36453923   AAPL"
      ]
     },
     "execution_count": 5,
     "metadata": {},
     "output_type": "execute_result"
    }
   ],
   "source": [
    "#Example: AAPL stock past 100 days daily time series data\n",
    "aapl_df = TimeSeriesDaily_df('AAPL')\n",
    "aapl_df.head()"
   ]
  },
  {
   "cell_type": "code",
   "execution_count": 16,
   "id": "0d01c005",
   "metadata": {},
   "outputs": [],
   "source": [
    "#19 home construction companies used in paper:\n",
    "portfolio = ['FDX', 'UNP', 'KSU', 'NSC', 'UPS', 'CHRW', 'UAL', 'DAL', 'LUV', 'CSX', 'DHI', 'LEN', 'PHM', 'TOL', 'NVR', 'HD', 'LOW', 'SHW', 'SPY']"
   ]
  },
  {
   "cell_type": "code",
   "execution_count": 7,
   "id": "a6f146b6",
   "metadata": {},
   "outputs": [],
   "source": [
    "#would need to choose which data I want to use (open, high, low, close volumn) and it's easy to make a function that makes a series of this data\n",
    "#Example: Close price\n",
    "aapl_close = aapl_df['close'].rename('AAPL close')\n",
    "msft_close = msft_df['close'].rename('MSFT close')\n",
    "date = aapl_df['timestamp']\n",
    "data = [date, aapl_close, msft_close]"
   ]
  },
  {
   "cell_type": "code",
   "execution_count": 8,
   "id": "ecf72db5",
   "metadata": {},
   "outputs": [],
   "source": [
    "#take multiple data (dtype pd.Series) and make into a data matrix\n",
    "def make_data_matrix(data: list[pd.Series]):\n",
    "    \"\"\" \n",
    "    Make M1 and M2 data matrices from a list of Series. The first element of the list\n",
    "    must be the dates (time stamp) and the rest are the data series.\n",
    "    \"\"\"\n",
    "    M1_df = pd.DataFrame(data[1:])\n",
    "    M1_df.index = [s.name for s in data[1:]]\n",
    "    M1_df.columns = data[0]\n",
    "    M = M1_df.to_numpy()\n",
    "    M1 = M[:, :-1]\n",
    "    M2 = M[:, 1:]\n",
    "    return M1, M2\n"
   ]
  },
  {
   "cell_type": "code",
   "execution_count": 9,
   "id": "41a4d522",
   "metadata": {},
   "outputs": [
    {
     "data": {
      "text/plain": [
       "array([[211.45, 212.33, 212.93, 210.79, 198.53, 197.49, 196.25, 198.51,\n",
       "        198.89, 205.35, 213.32, 212.5 , 211.21, 210.14, 209.28, 208.37,\n",
       "        204.6 , 199.74, 193.16, 196.98, 194.27, 202.14, 202.52, 198.15,\n",
       "        190.42, 198.85, 172.42, 181.46, 188.38, 203.19, 223.89, 223.19,\n",
       "        222.13, 217.9 , 223.85, 221.53, 223.75, 220.73, 218.27, 214.1 ,\n",
       "        215.24, 212.69, 214.  , 213.49, 209.68, 216.98, 220.84, 227.48,\n",
       "        239.07, 235.33, 235.74, 235.93, 238.03, 241.84, 237.3 , 240.36,\n",
       "        247.04, 247.1 , 245.55, 245.83, 244.87, 244.47, 244.6 , 241.53,\n",
       "        236.87, 232.62, 227.65, 227.63, 233.22, 232.47, 232.8 , 228.01,\n",
       "        236.  , 237.59, 239.36, 238.26, 229.86, 222.78, 223.66, 223.83,\n",
       "        222.64, 229.98, 228.26, 237.87, 233.28, 234.4 , 236.85, 242.7 ,\n",
       "        242.21, 245.  , 243.36, 243.85, 250.42, 252.2 , 255.59, 259.02,\n",
       "        258.2 , 255.27, 254.49],\n",
       "       [453.13, 452.94, 449.14, 449.26, 438.73, 438.17, 433.35, 433.31,\n",
       "        436.17, 435.28, 425.4 , 395.26, 394.04, 391.16, 391.85, 387.3 ,\n",
       "        374.39, 366.82, 359.12, 367.78, 371.61, 385.73, 387.81, 388.45,\n",
       "        381.35, 390.49, 354.56, 357.86, 359.84, 373.11, 382.14, 382.19,\n",
       "        375.39, 378.8 , 390.58, 389.97, 395.16, 393.08, 391.26, 386.84,\n",
       "        387.82, 383.52, 388.7 , 388.56, 378.77, 383.27, 380.45, 380.16,\n",
       "        393.31, 396.89, 401.02, 388.61, 388.49, 396.99, 392.53, 399.73,\n",
       "        397.9 , 404.  , 408.21, 416.13, 414.77, 409.64, 408.43, 410.54,\n",
       "        409.04, 411.44, 412.22, 409.75, 415.82, 413.29, 412.37, 410.92,\n",
       "        415.06, 414.99, 442.33, 447.2 , 434.56, 444.06, 446.71, 446.2 ,\n",
       "        428.5 , 429.03, 424.58, 426.31, 415.67, 417.19, 418.95, 424.56,\n",
       "        422.37, 427.85, 423.35, 418.58, 421.5 , 424.83, 430.53, 438.11,\n",
       "        439.33, 435.25, 436.6 ]])"
      ]
     },
     "execution_count": 9,
     "metadata": {},
     "output_type": "execute_result"
    }
   ],
   "source": [
    "M1, M2 = make_data_matrix(data)\n",
    "M1"
   ]
  },
  {
   "cell_type": "code",
   "execution_count": 10,
   "id": "dbc187dd",
   "metadata": {},
   "outputs": [
    {
     "ename": "LinAlgError",
     "evalue": "Last 2 dimensions of the array must be square",
     "output_type": "error",
     "traceback": [
      "\u001b[0;31m---------------------------------------------------------------------------\u001b[0m",
      "\u001b[0;31mLinAlgError\u001b[0m                               Traceback (most recent call last)",
      "Cell \u001b[0;32mIn[10], line 5\u001b[0m\n\u001b[1;32m      3\u001b[0m S \u001b[38;5;241m=\u001b[39m np\u001b[38;5;241m.\u001b[39mzeros((U\u001b[38;5;241m.\u001b[39mshape[\u001b[38;5;241m1\u001b[39m], Vt\u001b[38;5;241m.\u001b[39mshape[\u001b[38;5;241m0\u001b[39m]))\n\u001b[1;32m      4\u001b[0m np\u001b[38;5;241m.\u001b[39mfill_diagonal(S, s)\n\u001b[0;32m----> 5\u001b[0m s_inv \u001b[38;5;241m=\u001b[39m \u001b[43mnp\u001b[49m\u001b[38;5;241;43m.\u001b[39;49m\u001b[43mlinalg\u001b[49m\u001b[38;5;241;43m.\u001b[39;49m\u001b[43minv\u001b[49m\u001b[43m(\u001b[49m\u001b[43mS\u001b[49m\u001b[43m)\u001b[49m\n\u001b[1;32m      6\u001b[0m A_tild \u001b[38;5;241m=\u001b[39m U\u001b[38;5;241m.\u001b[39mT\u001b[38;5;129m@M2\u001b[39m\u001b[38;5;129m@Vt\u001b[39m\u001b[38;5;241m.\u001b[39mT\u001b[38;5;129m@s_inv\u001b[39m\n",
      "File \u001b[0;32m~/Documents/code/.venv/lib/python3.13/site-packages/numpy/linalg/_linalg.py:603\u001b[0m, in \u001b[0;36minv\u001b[0;34m(a)\u001b[0m\n\u001b[1;32m    601\u001b[0m a, wrap \u001b[38;5;241m=\u001b[39m _makearray(a)\n\u001b[1;32m    602\u001b[0m _assert_stacked_2d(a)\n\u001b[0;32m--> 603\u001b[0m \u001b[43m_assert_stacked_square\u001b[49m\u001b[43m(\u001b[49m\u001b[43ma\u001b[49m\u001b[43m)\u001b[49m\n\u001b[1;32m    604\u001b[0m t, result_t \u001b[38;5;241m=\u001b[39m _commonType(a)\n\u001b[1;32m    606\u001b[0m signature \u001b[38;5;241m=\u001b[39m \u001b[38;5;124m'\u001b[39m\u001b[38;5;124mD->D\u001b[39m\u001b[38;5;124m'\u001b[39m \u001b[38;5;28;01mif\u001b[39;00m isComplexType(t) \u001b[38;5;28;01melse\u001b[39;00m \u001b[38;5;124m'\u001b[39m\u001b[38;5;124md->d\u001b[39m\u001b[38;5;124m'\u001b[39m\n",
      "File \u001b[0;32m~/Documents/code/.venv/lib/python3.13/site-packages/numpy/linalg/_linalg.py:202\u001b[0m, in \u001b[0;36m_assert_stacked_square\u001b[0;34m(*arrays)\u001b[0m\n\u001b[1;32m    200\u001b[0m m, n \u001b[38;5;241m=\u001b[39m a\u001b[38;5;241m.\u001b[39mshape[\u001b[38;5;241m-\u001b[39m\u001b[38;5;241m2\u001b[39m:]\n\u001b[1;32m    201\u001b[0m \u001b[38;5;28;01mif\u001b[39;00m m \u001b[38;5;241m!=\u001b[39m n:\n\u001b[0;32m--> 202\u001b[0m     \u001b[38;5;28;01mraise\u001b[39;00m LinAlgError(\u001b[38;5;124m'\u001b[39m\u001b[38;5;124mLast 2 dimensions of the array must be square\u001b[39m\u001b[38;5;124m'\u001b[39m)\n",
      "\u001b[0;31mLinAlgError\u001b[0m: Last 2 dimensions of the array must be square"
     ]
    }
   ],
   "source": [
    "M1_centered = M1 - np.mean(M1)\n",
    "U, s, Vt = np.linalg.svd(M1_centered)\n",
    "S = np.zeros((U.shape[1], Vt.shape[0]))\n",
    "np.fill_diagonal(S, s)\n",
    "s_inv = np.linalg.inv(S)\n",
    "A_tild = U.T@M2@Vt.T@s_inv\n",
    "\n"
   ]
  },
  {
   "cell_type": "code",
   "execution_count": null,
   "id": "a88080d7",
   "metadata": {},
   "outputs": [],
   "source": []
  }
 ],
 "metadata": {
  "kernelspec": {
   "display_name": ".venv",
   "language": "python",
   "name": "python3"
  },
  "language_info": {
   "codemirror_mode": {
    "name": "ipython",
    "version": 3
   },
   "file_extension": ".py",
   "mimetype": "text/x-python",
   "name": "python",
   "nbconvert_exporter": "python",
   "pygments_lexer": "ipython3",
   "version": "3.13.1"
  }
 },
 "nbformat": 4,
 "nbformat_minor": 5
}
