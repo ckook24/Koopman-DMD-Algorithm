{
 "cells": [
  {
   "cell_type": "code",
   "execution_count": 1,
   "id": "eee7fa41-1c60-4ca2-8ab4-a4cd5c4da762",
   "metadata": {},
   "outputs": [],
   "source": [
    "import numpy as np\n",
    "import pandas as pd\n",
    "import matplotlib.pyplot as plt\n",
    "import seaborn as sns\n",
    "\n"
   ]
  },
  {
   "cell_type": "code",
   "execution_count": 2,
   "id": "abd0e6b1",
   "metadata": {},
   "outputs": [
    {
     "data": {
      "text/html": [
       "<div>\n",
       "<style scoped>\n",
       "    .dataframe tbody tr th:only-of-type {\n",
       "        vertical-align: middle;\n",
       "    }\n",
       "\n",
       "    .dataframe tbody tr th {\n",
       "        vertical-align: top;\n",
       "    }\n",
       "\n",
       "    .dataframe thead th {\n",
       "        text-align: right;\n",
       "    }\n",
       "</style>\n",
       "<table border=\"1\" class=\"dataframe\">\n",
       "  <thead>\n",
       "    <tr style=\"text-align: right;\">\n",
       "      <th></th>\n",
       "      <th>timestamp</th>\n",
       "      <th>open</th>\n",
       "      <th>high</th>\n",
       "      <th>low</th>\n",
       "      <th>close</th>\n",
       "      <th>volume</th>\n",
       "    </tr>\n",
       "  </thead>\n",
       "  <tbody>\n",
       "    <tr>\n",
       "      <th>0</th>\n",
       "      <td>2025-05-12</td>\n",
       "      <td>210.97</td>\n",
       "      <td>211.2679</td>\n",
       "      <td>206.7500</td>\n",
       "      <td>210.79</td>\n",
       "      <td>63775814</td>\n",
       "    </tr>\n",
       "    <tr>\n",
       "      <th>1</th>\n",
       "      <td>2025-05-09</td>\n",
       "      <td>199.00</td>\n",
       "      <td>200.5399</td>\n",
       "      <td>197.5350</td>\n",
       "      <td>198.53</td>\n",
       "      <td>36453923</td>\n",
       "    </tr>\n",
       "    <tr>\n",
       "      <th>2</th>\n",
       "      <td>2025-05-08</td>\n",
       "      <td>197.72</td>\n",
       "      <td>200.0500</td>\n",
       "      <td>194.6796</td>\n",
       "      <td>197.49</td>\n",
       "      <td>50478872</td>\n",
       "    </tr>\n",
       "    <tr>\n",
       "      <th>3</th>\n",
       "      <td>2025-05-07</td>\n",
       "      <td>199.17</td>\n",
       "      <td>199.4400</td>\n",
       "      <td>193.2500</td>\n",
       "      <td>196.25</td>\n",
       "      <td>68616943</td>\n",
       "    </tr>\n",
       "    <tr>\n",
       "      <th>4</th>\n",
       "      <td>2025-05-06</td>\n",
       "      <td>198.21</td>\n",
       "      <td>200.6500</td>\n",
       "      <td>197.0200</td>\n",
       "      <td>198.51</td>\n",
       "      <td>51216482</td>\n",
       "    </tr>\n",
       "  </tbody>\n",
       "</table>\n",
       "</div>"
      ],
      "text/plain": [
       "    timestamp    open      high       low   close    volume\n",
       "0  2025-05-12  210.97  211.2679  206.7500  210.79  63775814\n",
       "1  2025-05-09  199.00  200.5399  197.5350  198.53  36453923\n",
       "2  2025-05-08  197.72  200.0500  194.6796  197.49  50478872\n",
       "3  2025-05-07  199.17  199.4400  193.2500  196.25  68616943\n",
       "4  2025-05-06  198.21  200.6500  197.0200  198.51  51216482"
      ]
     },
     "execution_count": 2,
     "metadata": {},
     "output_type": "execute_result"
    }
   ],
   "source": [
    "url = 'https://www.alphavantage.co/query?function=TIME_SERIES_DAILY&symbol=AAPL&apikey=98WO4EK4CGOBTPQR&datatype=csv'\n",
    "df = pd.read_csv(url)\n",
    "df.head()"
   ]
  },
  {
   "cell_type": "code",
   "execution_count": null,
   "id": "ecf72db5",
   "metadata": {},
   "outputs": [],
   "source": []
  }
 ],
 "metadata": {
  "kernelspec": {
   "display_name": ".venv",
   "language": "python",
   "name": "python3"
  },
  "language_info": {
   "codemirror_mode": {
    "name": "ipython",
    "version": 3
   },
   "file_extension": ".py",
   "mimetype": "text/x-python",
   "name": "python",
   "nbconvert_exporter": "python",
   "pygments_lexer": "ipython3",
   "version": "3.13.1"
  }
 },
 "nbformat": 4,
 "nbformat_minor": 5
}
