{
 "cells": [
  {
   "cell_type": "code",
   "execution_count": 352,
   "id": "eee7fa41-1c60-4ca2-8ab4-a4cd5c4da762",
   "metadata": {},
   "outputs": [],
   "source": [
    "import numpy as np\n",
    "import pandas as pd\n",
    "import matplotlib.pyplot as plt\n",
    "import seaborn as sns\n",
    "from scipy.linalg import svd"
   ]
  },
  {
   "cell_type": "code",
   "execution_count": 353,
   "id": "abd0e6b1",
   "metadata": {},
   "outputs": [],
   "source": [
    "#if i want to include SMA/stock data for same company, need to scrape function not just symbol\n",
    "def TimeSeriesDaily_df(stock_name):\n",
    "    \"\"\"\n",
    "    Read a CSV file from a URL and return a DataFrame with symbol as the last column.\n",
    "    \"\"\"\n",
    "    url = f'https://www.alphavantage.co/query?function=TIME_SERIES_DAILY&symbol={stock_name}&outputsize=full&apikey=98WO4EK4CGOBTPQR&datatype=csv'\n",
    "    df = pd.read_csv(url)\n",
    "    df['symbol'] = stock_name\n",
    "    return df\n",
    "    "
   ]
  },
  {
   "cell_type": "code",
   "execution_count": 354,
   "id": "5c17cdd3",
   "metadata": {},
   "outputs": [],
   "source": [
    "def TimeSeriesIntraday_df(stock_name):\n",
    "    url = f'https://www.alphavantage.co/query?function=TIME_SERIES_INTRADAY&symbol={stock_name}&interval=1min&outputsize=full&apikey=98WO4EK4CGOBTPQR&datatype=csv'\n",
    "    df = pd.read_csv(url)\n",
    "    df['symbol'] = stock_name\n",
    "    return df\n",
    "    "
   ]
  },
  {
   "cell_type": "code",
   "execution_count": 355,
   "id": "4b48e0de",
   "metadata": {},
   "outputs": [],
   "source": [
    "def QuoteEndpoint_df(stock_name):\n",
    "    url = f'https://www.alphavantage.co/query?function=GLOBAL_QUOTE&symbol={stock_name}&interval=1min&outputsize=full&apikey=98WO4EK4CGOBTPQR&datatype=csv'\n",
    "    df = pd.read_csv(url)\n",
    "    df['symbol'] = stock_name\n",
    "    return df\n",
    "    "
   ]
  },
  {
   "cell_type": "code",
   "execution_count": 6,
   "id": "553fcd34",
   "metadata": {},
   "outputs": [],
   "source": [
    "daily_df = TimeSeriesDaily_df('TSLA')"
   ]
  },
  {
   "cell_type": "code",
   "execution_count": 9,
   "id": "6da43558",
   "metadata": {},
   "outputs": [],
   "source": [
    "intraday_df = TimeSeriesIntraday_df('TSLA')"
   ]
  },
  {
   "cell_type": "code",
   "execution_count": 9,
   "id": "712c84e6",
   "metadata": {},
   "outputs": [],
   "source": [
    "lastprice_df = QuoteEndpoint_df('TSLA')"
   ]
  },
  {
   "cell_type": "code",
   "execution_count": 7,
   "id": "189ee307",
   "metadata": {},
   "outputs": [
    {
     "data": {
      "text/html": [
       "<div>\n",
       "<style scoped>\n",
       "    .dataframe tbody tr th:only-of-type {\n",
       "        vertical-align: middle;\n",
       "    }\n",
       "\n",
       "    .dataframe tbody tr th {\n",
       "        vertical-align: top;\n",
       "    }\n",
       "\n",
       "    .dataframe thead th {\n",
       "        text-align: right;\n",
       "    }\n",
       "</style>\n",
       "<table border=\"1\" class=\"dataframe\">\n",
       "  <thead>\n",
       "    <tr style=\"text-align: right;\">\n",
       "      <th></th>\n",
       "      <th>timestamp</th>\n",
       "      <th>open</th>\n",
       "      <th>high</th>\n",
       "      <th>low</th>\n",
       "      <th>close</th>\n",
       "      <th>volume</th>\n",
       "      <th>symbol</th>\n",
       "    </tr>\n",
       "  </thead>\n",
       "  <tbody>\n",
       "    <tr>\n",
       "      <th>0</th>\n",
       "      <td>2010-06-29</td>\n",
       "      <td>19.00</td>\n",
       "      <td>25.0000</td>\n",
       "      <td>17.5400</td>\n",
       "      <td>23.89</td>\n",
       "      <td>18766300</td>\n",
       "      <td>TSLA</td>\n",
       "    </tr>\n",
       "    <tr>\n",
       "      <th>1</th>\n",
       "      <td>2010-06-30</td>\n",
       "      <td>25.79</td>\n",
       "      <td>30.4192</td>\n",
       "      <td>23.3000</td>\n",
       "      <td>23.83</td>\n",
       "      <td>17187100</td>\n",
       "      <td>TSLA</td>\n",
       "    </tr>\n",
       "    <tr>\n",
       "      <th>2</th>\n",
       "      <td>2010-07-01</td>\n",
       "      <td>25.00</td>\n",
       "      <td>25.9200</td>\n",
       "      <td>20.2700</td>\n",
       "      <td>21.96</td>\n",
       "      <td>8218800</td>\n",
       "      <td>TSLA</td>\n",
       "    </tr>\n",
       "    <tr>\n",
       "      <th>3</th>\n",
       "      <td>2010-07-02</td>\n",
       "      <td>23.00</td>\n",
       "      <td>23.1000</td>\n",
       "      <td>18.7100</td>\n",
       "      <td>19.20</td>\n",
       "      <td>5139800</td>\n",
       "      <td>TSLA</td>\n",
       "    </tr>\n",
       "    <tr>\n",
       "      <th>4</th>\n",
       "      <td>2010-07-06</td>\n",
       "      <td>20.00</td>\n",
       "      <td>20.0000</td>\n",
       "      <td>15.8300</td>\n",
       "      <td>16.11</td>\n",
       "      <td>6866900</td>\n",
       "      <td>TSLA</td>\n",
       "    </tr>\n",
       "    <tr>\n",
       "      <th>...</th>\n",
       "      <td>...</td>\n",
       "      <td>...</td>\n",
       "      <td>...</td>\n",
       "      <td>...</td>\n",
       "      <td>...</td>\n",
       "      <td>...</td>\n",
       "      <td>...</td>\n",
       "    </tr>\n",
       "    <tr>\n",
       "      <th>3841</th>\n",
       "      <td>2025-10-06</td>\n",
       "      <td>440.75</td>\n",
       "      <td>453.5500</td>\n",
       "      <td>436.6900</td>\n",
       "      <td>453.25</td>\n",
       "      <td>85324878</td>\n",
       "      <td>TSLA</td>\n",
       "    </tr>\n",
       "    <tr>\n",
       "      <th>3842</th>\n",
       "      <td>2025-10-07</td>\n",
       "      <td>447.82</td>\n",
       "      <td>452.6800</td>\n",
       "      <td>432.4501</td>\n",
       "      <td>433.09</td>\n",
       "      <td>102296082</td>\n",
       "      <td>TSLA</td>\n",
       "    </tr>\n",
       "    <tr>\n",
       "      <th>3843</th>\n",
       "      <td>2025-10-08</td>\n",
       "      <td>437.57</td>\n",
       "      <td>441.3300</td>\n",
       "      <td>425.2300</td>\n",
       "      <td>438.69</td>\n",
       "      <td>71192128</td>\n",
       "      <td>TSLA</td>\n",
       "    </tr>\n",
       "    <tr>\n",
       "      <th>3844</th>\n",
       "      <td>2025-10-09</td>\n",
       "      <td>431.81</td>\n",
       "      <td>436.3500</td>\n",
       "      <td>426.1800</td>\n",
       "      <td>435.54</td>\n",
       "      <td>69339928</td>\n",
       "      <td>TSLA</td>\n",
       "    </tr>\n",
       "    <tr>\n",
       "      <th>3845</th>\n",
       "      <td>2025-10-10</td>\n",
       "      <td>436.54</td>\n",
       "      <td>443.1300</td>\n",
       "      <td>411.4500</td>\n",
       "      <td>413.49</td>\n",
       "      <td>112107870</td>\n",
       "      <td>TSLA</td>\n",
       "    </tr>\n",
       "  </tbody>\n",
       "</table>\n",
       "<p>3846 rows × 7 columns</p>\n",
       "</div>"
      ],
      "text/plain": [
       "       timestamp    open      high       low   close     volume symbol\n",
       "0     2010-06-29   19.00   25.0000   17.5400   23.89   18766300   TSLA\n",
       "1     2010-06-30   25.79   30.4192   23.3000   23.83   17187100   TSLA\n",
       "2     2010-07-01   25.00   25.9200   20.2700   21.96    8218800   TSLA\n",
       "3     2010-07-02   23.00   23.1000   18.7100   19.20    5139800   TSLA\n",
       "4     2010-07-06   20.00   20.0000   15.8300   16.11    6866900   TSLA\n",
       "...          ...     ...       ...       ...     ...        ...    ...\n",
       "3841  2025-10-06  440.75  453.5500  436.6900  453.25   85324878   TSLA\n",
       "3842  2025-10-07  447.82  452.6800  432.4501  433.09  102296082   TSLA\n",
       "3843  2025-10-08  437.57  441.3300  425.2300  438.69   71192128   TSLA\n",
       "3844  2025-10-09  431.81  436.3500  426.1800  435.54   69339928   TSLA\n",
       "3845  2025-10-10  436.54  443.1300  411.4500  413.49  112107870   TSLA\n",
       "\n",
       "[3846 rows x 7 columns]"
      ]
     },
     "execution_count": 7,
     "metadata": {},
     "output_type": "execute_result"
    }
   ],
   "source": [
    "daily_df = daily_df[::-1].reset_index(drop=True)\n",
    "daily_df"
   ]
  },
  {
   "cell_type": "code",
   "execution_count": 10,
   "id": "515fcc10",
   "metadata": {},
   "outputs": [
    {
     "data": {
      "text/html": [
       "<div>\n",
       "<style scoped>\n",
       "    .dataframe tbody tr th:only-of-type {\n",
       "        vertical-align: middle;\n",
       "    }\n",
       "\n",
       "    .dataframe tbody tr th {\n",
       "        vertical-align: top;\n",
       "    }\n",
       "\n",
       "    .dataframe thead th {\n",
       "        text-align: right;\n",
       "    }\n",
       "</style>\n",
       "<table border=\"1\" class=\"dataframe\">\n",
       "  <thead>\n",
       "    <tr style=\"text-align: right;\">\n",
       "      <th></th>\n",
       "      <th>timestamp</th>\n",
       "      <th>open</th>\n",
       "      <th>high</th>\n",
       "      <th>low</th>\n",
       "      <th>close</th>\n",
       "      <th>volume</th>\n",
       "      <th>symbol</th>\n",
       "    </tr>\n",
       "  </thead>\n",
       "  <tbody>\n",
       "    <tr>\n",
       "      <th>330</th>\n",
       "      <td>2025-09-11 09:30:00</td>\n",
       "      <td>350.170</td>\n",
       "      <td>350.4500</td>\n",
       "      <td>348.5200</td>\n",
       "      <td>349.2700</td>\n",
       "      <td>732906</td>\n",
       "      <td>TSLA</td>\n",
       "    </tr>\n",
       "    <tr>\n",
       "      <th>331</th>\n",
       "      <td>2025-09-11 09:31:00</td>\n",
       "      <td>349.310</td>\n",
       "      <td>349.6300</td>\n",
       "      <td>348.7300</td>\n",
       "      <td>349.2083</td>\n",
       "      <td>289377</td>\n",
       "      <td>TSLA</td>\n",
       "    </tr>\n",
       "    <tr>\n",
       "      <th>332</th>\n",
       "      <td>2025-09-11 09:32:00</td>\n",
       "      <td>349.230</td>\n",
       "      <td>349.9300</td>\n",
       "      <td>348.3600</td>\n",
       "      <td>348.7338</td>\n",
       "      <td>355214</td>\n",
       "      <td>TSLA</td>\n",
       "    </tr>\n",
       "    <tr>\n",
       "      <th>333</th>\n",
       "      <td>2025-09-11 09:33:00</td>\n",
       "      <td>348.730</td>\n",
       "      <td>349.9200</td>\n",
       "      <td>348.2501</td>\n",
       "      <td>349.5816</td>\n",
       "      <td>343646</td>\n",
       "      <td>TSLA</td>\n",
       "    </tr>\n",
       "    <tr>\n",
       "      <th>334</th>\n",
       "      <td>2025-09-11 09:34:00</td>\n",
       "      <td>349.560</td>\n",
       "      <td>350.3300</td>\n",
       "      <td>349.4950</td>\n",
       "      <td>350.1726</td>\n",
       "      <td>314949</td>\n",
       "      <td>TSLA</td>\n",
       "    </tr>\n",
       "    <tr>\n",
       "      <th>...</th>\n",
       "      <td>...</td>\n",
       "      <td>...</td>\n",
       "      <td>...</td>\n",
       "      <td>...</td>\n",
       "      <td>...</td>\n",
       "      <td>...</td>\n",
       "      <td>...</td>\n",
       "    </tr>\n",
       "    <tr>\n",
       "      <th>20876</th>\n",
       "      <td>2025-10-10 15:56:00</td>\n",
       "      <td>413.870</td>\n",
       "      <td>414.0700</td>\n",
       "      <td>413.4800</td>\n",
       "      <td>413.5550</td>\n",
       "      <td>381745</td>\n",
       "      <td>TSLA</td>\n",
       "    </tr>\n",
       "    <tr>\n",
       "      <th>20877</th>\n",
       "      <td>2025-10-10 15:57:00</td>\n",
       "      <td>413.590</td>\n",
       "      <td>414.3000</td>\n",
       "      <td>413.3800</td>\n",
       "      <td>414.0300</td>\n",
       "      <td>439384</td>\n",
       "      <td>TSLA</td>\n",
       "    </tr>\n",
       "    <tr>\n",
       "      <th>20878</th>\n",
       "      <td>2025-10-10 15:58:00</td>\n",
       "      <td>414.075</td>\n",
       "      <td>414.1745</td>\n",
       "      <td>413.7000</td>\n",
       "      <td>413.8700</td>\n",
       "      <td>409379</td>\n",
       "      <td>TSLA</td>\n",
       "    </tr>\n",
       "    <tr>\n",
       "      <th>20879</th>\n",
       "      <td>2025-10-10 15:59:00</td>\n",
       "      <td>413.850</td>\n",
       "      <td>413.8600</td>\n",
       "      <td>413.1500</td>\n",
       "      <td>413.2700</td>\n",
       "      <td>983439</td>\n",
       "      <td>TSLA</td>\n",
       "    </tr>\n",
       "    <tr>\n",
       "      <th>20880</th>\n",
       "      <td>2025-10-10 16:00:00</td>\n",
       "      <td>413.250</td>\n",
       "      <td>414.4000</td>\n",
       "      <td>413.1400</td>\n",
       "      <td>414.1300</td>\n",
       "      <td>10669025</td>\n",
       "      <td>TSLA</td>\n",
       "    </tr>\n",
       "  </tbody>\n",
       "</table>\n",
       "<p>8602 rows × 7 columns</p>\n",
       "</div>"
      ],
      "text/plain": [
       "                timestamp     open      high       low     close    volume  \\\n",
       "330   2025-09-11 09:30:00  350.170  350.4500  348.5200  349.2700    732906   \n",
       "331   2025-09-11 09:31:00  349.310  349.6300  348.7300  349.2083    289377   \n",
       "332   2025-09-11 09:32:00  349.230  349.9300  348.3600  348.7338    355214   \n",
       "333   2025-09-11 09:33:00  348.730  349.9200  348.2501  349.5816    343646   \n",
       "334   2025-09-11 09:34:00  349.560  350.3300  349.4950  350.1726    314949   \n",
       "...                   ...      ...       ...       ...       ...       ...   \n",
       "20876 2025-10-10 15:56:00  413.870  414.0700  413.4800  413.5550    381745   \n",
       "20877 2025-10-10 15:57:00  413.590  414.3000  413.3800  414.0300    439384   \n",
       "20878 2025-10-10 15:58:00  414.075  414.1745  413.7000  413.8700    409379   \n",
       "20879 2025-10-10 15:59:00  413.850  413.8600  413.1500  413.2700    983439   \n",
       "20880 2025-10-10 16:00:00  413.250  414.4000  413.1400  414.1300  10669025   \n",
       "\n",
       "      symbol  \n",
       "330     TSLA  \n",
       "331     TSLA  \n",
       "332     TSLA  \n",
       "333     TSLA  \n",
       "334     TSLA  \n",
       "...      ...  \n",
       "20876   TSLA  \n",
       "20877   TSLA  \n",
       "20878   TSLA  \n",
       "20879   TSLA  \n",
       "20880   TSLA  \n",
       "\n",
       "[8602 rows x 7 columns]"
      ]
     },
     "execution_count": 10,
     "metadata": {},
     "output_type": "execute_result"
    }
   ],
   "source": [
    "intraday_df = intraday_df[::-1].reset_index(drop=True)\n",
    "intraday_df['timestamp'] = pd.to_datetime(intraday_df['timestamp'])\n",
    "mask = ((intraday_df['timestamp'].dt.time >= pd.Timestamp('9:30:00').time()) & (intraday_df['timestamp'].dt.time <= pd.Timestamp('16:00:00').time()))\n",
    "intraday_open_df = intraday_df.loc[mask]\n",
    "intraday_close_df = intraday_df.loc[~mask]\n",
    "intraday_open_df"
   ]
  },
  {
   "cell_type": "code",
   "execution_count": 10,
   "id": "6b556a49",
   "metadata": {},
   "outputs": [
    {
     "data": {
      "text/html": [
       "<div>\n",
       "<style scoped>\n",
       "    .dataframe tbody tr th:only-of-type {\n",
       "        vertical-align: middle;\n",
       "    }\n",
       "\n",
       "    .dataframe tbody tr th {\n",
       "        vertical-align: top;\n",
       "    }\n",
       "\n",
       "    .dataframe thead th {\n",
       "        text-align: right;\n",
       "    }\n",
       "</style>\n",
       "<table border=\"1\" class=\"dataframe\">\n",
       "  <thead>\n",
       "    <tr style=\"text-align: right;\">\n",
       "      <th></th>\n",
       "      <th>symbol</th>\n",
       "      <th>open</th>\n",
       "      <th>high</th>\n",
       "      <th>low</th>\n",
       "      <th>price</th>\n",
       "      <th>volume</th>\n",
       "      <th>latestDay</th>\n",
       "      <th>previousClose</th>\n",
       "      <th>change</th>\n",
       "      <th>changePercent</th>\n",
       "    </tr>\n",
       "  </thead>\n",
       "  <tbody>\n",
       "    <tr>\n",
       "      <th>0</th>\n",
       "      <td>TSLA</td>\n",
       "      <td>370.94</td>\n",
       "      <td>396.6899</td>\n",
       "      <td>370.24</td>\n",
       "      <td>395.94</td>\n",
       "      <td>168156391</td>\n",
       "      <td>2025-09-12</td>\n",
       "      <td>368.81</td>\n",
       "      <td>27.13</td>\n",
       "      <td>7.3561%</td>\n",
       "    </tr>\n",
       "  </tbody>\n",
       "</table>\n",
       "</div>"
      ],
      "text/plain": [
       "  symbol    open      high     low   price     volume   latestDay  \\\n",
       "0   TSLA  370.94  396.6899  370.24  395.94  168156391  2025-09-12   \n",
       "\n",
       "   previousClose  change changePercent  \n",
       "0         368.81   27.13       7.3561%  "
      ]
     },
     "execution_count": 10,
     "metadata": {},
     "output_type": "execute_result"
    }
   ],
   "source": [
    "lastprice_df"
   ]
  },
  {
   "cell_type": "code",
   "execution_count": 13,
   "id": "c273ab6e",
   "metadata": {},
   "outputs": [
    {
     "data": {
      "image/png": "[encoded data removed]",
      "text/plain": [
       "<Figure size 640x480 with 1 Axes>"
      ]
     },
     "metadata": {},
     "output_type": "display_data"
    }
   ],
   "source": [
    "plt.plot(daily_df['timestamp'], daily_df['open'], color='red', label='open')\n",
    "plt.plot(daily_df['timestamp'], daily_df['close'], color='blue', label='close')\n",
    "plt.plot(daily_df['timestamp'], daily_df['high'], color='green', label='high')\n",
    "plt.plot(daily_df['timestamp'], daily_df['low'], color='purple', label='low')\n",
    "plt.xlabel('Timestamp')\n",
    "plt.ylabel('Price')\n",
    "plt.title('Daily Stock Prices 6-2010 ~ 10-2025')\n",
    "plt.legend()\n",
    "plt.xticks(rotation=45)\n",
    "\n",
    "plt.gca().xaxis.set_major_locator(plt.MaxNLocator(nbins=10))  \n",
    "\n",
    "plt.tight_layout()\n",
    "plt.show()"
   ]
  },
  {
   "cell_type": "code",
   "execution_count": 363,
   "id": "25456c8f",
   "metadata": {},
   "outputs": [],
   "source": [
    "def get_close_prices(portfolio):\n",
    "    \"\"\"\n",
    "    Returns a DataFrame of close prices for the given portfolio.\n",
    "    \"\"\"\n",
    "    data = {}\n",
    "    for s in portfolio:\n",
    "        df = TimeSeriesDaily_df(s)\n",
    "        df['timestamp'] = pd.to_datetime(df['timestamp'])\n",
    "        df = df.loc[df['timestamp'].dt.date > pd.Timestamp('2020, 10, 1').date()]\n",
    "        prices = np.array(df['close'])[::-1]\n",
    "        data[s] = prices\n",
    "        print(f'{s}: {prices[-1]}')\n",
    "    df_combined = pd.DataFrame(data)\n",
    "    df_combined['mean'] = df_combined.mean(axis=1)\n",
    "    data_arr = df_combined.to_numpy()\n",
    "    return data_arr.T"
   ]
  },
  {
   "cell_type": "code",
   "execution_count": 359,
   "id": "5f3eca03",
   "metadata": {},
   "outputs": [
    {
     "data": {
      "text/html": [
       "<div>\n",
       "<style scoped>\n",
       "    .dataframe tbody tr th:only-of-type {\n",
       "        vertical-align: middle;\n",
       "    }\n",
       "\n",
       "    .dataframe tbody tr th {\n",
       "        vertical-align: top;\n",
       "    }\n",
       "\n",
       "    .dataframe thead th {\n",
       "        text-align: right;\n",
       "    }\n",
       "</style>\n",
       "<table border=\"1\" class=\"dataframe\">\n",
       "  <thead>\n",
       "    <tr style=\"text-align: right;\">\n",
       "      <th></th>\n",
       "      <th>timestamp</th>\n",
       "      <th>open</th>\n",
       "      <th>high</th>\n",
       "      <th>low</th>\n",
       "      <th>close</th>\n",
       "      <th>volume</th>\n",
       "      <th>symbol</th>\n",
       "    </tr>\n",
       "  </thead>\n",
       "  <tbody>\n",
       "    <tr>\n",
       "      <th>0</th>\n",
       "      <td>2025-10-13</td>\n",
       "      <td>240.21</td>\n",
       "      <td>244.500</td>\n",
       "      <td>239.71</td>\n",
       "      <td>244.150</td>\n",
       "      <td>24995028</td>\n",
       "      <td>GOOGL</td>\n",
       "    </tr>\n",
       "    <tr>\n",
       "      <th>1</th>\n",
       "      <td>2025-10-10</td>\n",
       "      <td>241.43</td>\n",
       "      <td>244.090</td>\n",
       "      <td>235.84</td>\n",
       "      <td>236.570</td>\n",
       "      <td>33180323</td>\n",
       "      <td>GOOGL</td>\n",
       "    </tr>\n",
       "    <tr>\n",
       "      <th>2</th>\n",
       "      <td>2025-10-09</td>\n",
       "      <td>244.47</td>\n",
       "      <td>244.760</td>\n",
       "      <td>239.15</td>\n",
       "      <td>241.530</td>\n",
       "      <td>27892086</td>\n",
       "      <td>GOOGL</td>\n",
       "    </tr>\n",
       "    <tr>\n",
       "      <th>3</th>\n",
       "      <td>2025-10-08</td>\n",
       "      <td>244.96</td>\n",
       "      <td>246.005</td>\n",
       "      <td>243.82</td>\n",
       "      <td>244.620</td>\n",
       "      <td>21307104</td>\n",
       "      <td>GOOGL</td>\n",
       "    </tr>\n",
       "    <tr>\n",
       "      <th>4</th>\n",
       "      <td>2025-10-07</td>\n",
       "      <td>248.27</td>\n",
       "      <td>250.440</td>\n",
       "      <td>245.52</td>\n",
       "      <td>245.760</td>\n",
       "      <td>23181285</td>\n",
       "      <td>GOOGL</td>\n",
       "    </tr>\n",
       "    <tr>\n",
       "      <th>...</th>\n",
       "      <td>...</td>\n",
       "      <td>...</td>\n",
       "      <td>...</td>\n",
       "      <td>...</td>\n",
       "      <td>...</td>\n",
       "      <td>...</td>\n",
       "      <td>...</td>\n",
       "    </tr>\n",
       "    <tr>\n",
       "      <th>5317</th>\n",
       "      <td>2004-08-25</td>\n",
       "      <td>104.76</td>\n",
       "      <td>108.000</td>\n",
       "      <td>103.88</td>\n",
       "      <td>106.000</td>\n",
       "      <td>9188600</td>\n",
       "      <td>GOOGL</td>\n",
       "    </tr>\n",
       "    <tr>\n",
       "      <th>5318</th>\n",
       "      <td>2004-08-24</td>\n",
       "      <td>111.24</td>\n",
       "      <td>111.600</td>\n",
       "      <td>103.57</td>\n",
       "      <td>104.870</td>\n",
       "      <td>15247300</td>\n",
       "      <td>GOOGL</td>\n",
       "    </tr>\n",
       "    <tr>\n",
       "      <th>5319</th>\n",
       "      <td>2004-08-23</td>\n",
       "      <td>110.76</td>\n",
       "      <td>113.480</td>\n",
       "      <td>109.05</td>\n",
       "      <td>109.400</td>\n",
       "      <td>18256100</td>\n",
       "      <td>GOOGL</td>\n",
       "    </tr>\n",
       "    <tr>\n",
       "      <th>5320</th>\n",
       "      <td>2004-08-20</td>\n",
       "      <td>101.01</td>\n",
       "      <td>109.080</td>\n",
       "      <td>100.50</td>\n",
       "      <td>108.310</td>\n",
       "      <td>22834300</td>\n",
       "      <td>GOOGL</td>\n",
       "    </tr>\n",
       "    <tr>\n",
       "      <th>5321</th>\n",
       "      <td>2004-08-19</td>\n",
       "      <td>100.01</td>\n",
       "      <td>104.060</td>\n",
       "      <td>95.96</td>\n",
       "      <td>100.335</td>\n",
       "      <td>44659000</td>\n",
       "      <td>GOOGL</td>\n",
       "    </tr>\n",
       "  </tbody>\n",
       "</table>\n",
       "<p>5322 rows × 7 columns</p>\n",
       "</div>"
      ],
      "text/plain": [
       "       timestamp    open     high     low    close    volume symbol\n",
       "0     2025-10-13  240.21  244.500  239.71  244.150  24995028  GOOGL\n",
       "1     2025-10-10  241.43  244.090  235.84  236.570  33180323  GOOGL\n",
       "2     2025-10-09  244.47  244.760  239.15  241.530  27892086  GOOGL\n",
       "3     2025-10-08  244.96  246.005  243.82  244.620  21307104  GOOGL\n",
       "4     2025-10-07  248.27  250.440  245.52  245.760  23181285  GOOGL\n",
       "...          ...     ...      ...     ...      ...       ...    ...\n",
       "5317  2004-08-25  104.76  108.000  103.88  106.000   9188600  GOOGL\n",
       "5318  2004-08-24  111.24  111.600  103.57  104.870  15247300  GOOGL\n",
       "5319  2004-08-23  110.76  113.480  109.05  109.400  18256100  GOOGL\n",
       "5320  2004-08-20  101.01  109.080  100.50  108.310  22834300  GOOGL\n",
       "5321  2004-08-19  100.01  104.060   95.96  100.335  44659000  GOOGL\n",
       "\n",
       "[5322 rows x 7 columns]"
      ]
     },
     "execution_count": 359,
     "metadata": {},
     "output_type": "execute_result"
    }
   ],
   "source": [
    "df = TimeSeriesDaily_df('GOOGL')\n",
    "df"
   ]
  },
  {
   "cell_type": "code",
   "execution_count": 225,
   "id": "617447e0",
   "metadata": {},
   "outputs": [],
   "source": [
    "#home_construction_portfolio = ['DHI', 'LEN', 'PHM', 'TOL', 'NVR', 'HD', 'LOW', 'SHW', 'SPY']"
   ]
  },
  {
   "cell_type": "code",
   "execution_count": 361,
   "id": "969f48e8",
   "metadata": {},
   "outputs": [],
   "source": [
    "portfolio = ['AAPL', 'MSFT', 'GOOGL', 'AMZN', 'META', 'NVDA', 'TSLA', 'NDAQ']"
   ]
  },
  {
   "cell_type": "code",
   "execution_count": 364,
   "id": "1c3cc147",
   "metadata": {},
   "outputs": [
    {
     "name": "stdout",
     "output_type": "stream",
     "text": [
      "AAPL: 247.66\n",
      "MSFT: 514.05\n",
      "GOOGL: 244.15\n",
      "AMZN: 220.07\n",
      "META: 715.7\n",
      "NVDA: 188.32\n",
      "TSLA: 435.9\n",
      "NDAQ: 89.39\n"
     ]
    },
    {
     "data": {
      "text/plain": [
       "array([[ 113.02   ,  116.5    ,  113.16   , ...,  254.04   ,  245.27   ,\n",
       "         247.66   ],\n",
       "       [ 206.19   ,  210.38   ,  205.91   , ...,  522.4    ,  510.96   ,\n",
       "         514.05   ],\n",
       "       [1455.6    , 1482.83   , 1451.02   , ...,  241.53   ,  236.57   ,\n",
       "         244.15   ],\n",
       "       ...,\n",
       "       [ 415.09   ,  425.68   ,  413.98   , ...,  435.54   ,  413.49   ,\n",
       "         435.9    ],\n",
       "       [ 123.54   ,  124.87   ,  123.57   , ...,   91.4    ,   88.9    ,\n",
       "          89.39   ],\n",
       "       [ 777.60875,  796.22625,  776.965  , ...,  337.34125,  325.0025 ,\n",
       "         331.905  ]], shape=(9, 1263))"
      ]
     },
     "execution_count": 364,
     "metadata": {},
     "output_type": "execute_result"
    }
   ],
   "source": [
    "data_arr = get_close_prices(portfolio)\n",
    "data_arr"
   ]
  },
  {
   "cell_type": "code",
   "execution_count": 365,
   "id": "dbc187dd",
   "metadata": {},
   "outputs": [],
   "source": [
    "def predict_price(M1, M2, l):\n",
    "    ''' \n",
    "    Uses Koopman related DMD algorithm to predict future prices.\n",
    "    l is the number of days in the future to predict\n",
    "    ''' \n",
    "    U, s, Vt = np.linalg.svd(M1, full_matrices=False)\n",
    "    Sigma_inv = np.diag(1.0/s)\n",
    "    A_tilde = U.T @ M2 @ Vt.T @ Sigma_inv\n",
    "    evals, evecs = np.linalg.eig(A_tilde)\n",
    "    Phi = U @ evecs\n",
    "    x0 = M1[:, 0].reshape((-1,1))\n",
    "    b = np.linalg.pinv(Phi) @ x0\n",
    "\n",
    "    n, r = Phi.shape\n",
    "    preds = np.zeros((n, l))\n",
    "    for t in range(1, l+1):\n",
    "        D = np.diag(np.exp(np.log(evals) * t))\n",
    "        x_t = Phi @ D @ b\n",
    "        preds[:, t-1] = x_t.ravel().real\n",
    "    \n",
    "    return preds"
   ]
  },
  {
   "cell_type": "code",
   "execution_count": 366,
   "id": "c0f5c05a",
   "metadata": {},
   "outputs": [],
   "source": [
    "def directional_accuracy(prediction, actual):\n",
    "    '''\n",
    "    Returns the accuracy of the predictions. The model is accurate if\n",
    "    the predicted direction of the price change matches the actual direction.\n",
    "    '''\n",
    "    if prediction.shape != actual.shape:\n",
    "        raise ValueError(\"Prediction and actual arrays must have the same shape.\")\n",
    "\n",
    "    diff_pred = prediction[:, 1:] - prediction[:, :-1]  \n",
    "    diff_act = actual[:, 1:] - actual[:, :-1]     \n",
    "    \n",
    "    correct = np.sum((diff_pred * diff_act) > 0)\n",
    "    return correct/diff_pred.size\n",
    "    "
   ]
  },
  {
   "cell_type": "code",
   "execution_count": 367,
   "id": "cca54fc5",
   "metadata": {},
   "outputs": [],
   "source": [
    "def concat_data(accum, new_data):\n",
    "    \"\"\"\n",
    "    Concatenate new_preds horizontally row by row to accum.\n",
    "    Handles mixed dtypes by upcasting to object (or str if needed).\n",
    "    \"\"\"\n",
    "    if accum is None:  \n",
    "        return new_data.astype(object)\n",
    "\n",
    "    accum = np.asarray(accum, dtype=object)\n",
    "    new_data = np.asarray(new_data, dtype=object)\n",
    "\n",
    "    return np.hstack((accum, new_data))"
   ]
  },
  {
   "cell_type": "code",
   "execution_count": 541,
   "id": "27faaaef",
   "metadata": {},
   "outputs": [],
   "source": [
    "def find_hotspot(data_arr, m_start, m_end, l_start, l_end):\n",
    "    ''' \n",
    "    Finds potential hotspots based on the directional accuracy of price predictions. \n",
    "    Uses past 100 days of data to run through a range of parameters (m, l) to find\n",
    "    combinations that yield an accuracy greater than 0.53.\n",
    "\n",
    "    Returns a list of tuples (m, l, accuracy) for all combinations tested.\n",
    "    '''\n",
    "    accuracy_scores = []\n",
    "    potential_hotspots = []\n",
    "    preds_array = []\n",
    "    actuals_array = []\n",
    "    hotspots = []\n",
    "    scores = []\n",
    "    averages = []\n",
    "\n",
    "    for m in range(m_start, m_end):\n",
    "        scores_m_temp = []\n",
    "        for l in range(l_start, l_end):\n",
    "            scores_l_temp = []\n",
    "            predictions = None\n",
    "            actuals = None\n",
    "\n",
    "            for t in range(m, data_arr.shape[1]-l, l): \n",
    "                M = data_arr[:, t-m:t]\n",
    "                M1 = M[:, :-1]\n",
    "                M2 = M[:, 1:]\n",
    "                preds = predict_price(M1, M2, l)  #[: -1, :] drop the mean column\n",
    "                actual = data_arr[:, t:t+l]\n",
    "                scores_l_temp.append(directional_accuracy(preds, actual))\n",
    "                predictions = concat_data(predictions, preds)\n",
    "                actuals = concat_data(actuals, actual)\n",
    "            preds_array.append(predictions)\n",
    "            actuals_array.append(actuals)\n",
    "            accuracy = np.sum(scores_l_temp) / len(scores_l_temp) #the mean of all accuracy scores for a given (m, l)\n",
    "            accuracy_scores.append((m, l, accuracy))\n",
    "            scores_m_temp.append(accuracy)\n",
    "            if accuracy > 0.52: #arbitrary threshold\n",
    "                potential_hotspots.append((m, l, accuracy))\n",
    "        scores.append(scores_m_temp)\n",
    "    \n",
    "    for m1, l1, acc in potential_hotspots:\n",
    "        if (m1 == m_start) or (m1 == m_end-1) or (l1 == l_start) or (l1 == l_end-1):\n",
    "            continue\n",
    "        idx_m = m1 - m_start\n",
    "        idx_l = l1 - l_start\n",
    "        assert(acc == scores[idx_m][idx_l]), 'Wrong indexing for potential hotspot'\n",
    "        avg = (scores[idx_m-1][idx_l-1] + scores[idx_m-1][idx_l] + scores[idx_m-1][idx_l+1] +\n",
    "               scores[idx_m][idx_l-1] + scores[idx_m][idx_l] + scores[idx_m][idx_l+1] +\n",
    "               scores[idx_m+1][idx_l-1] + scores[idx_m+1][idx_l] + scores[idx_m+1][idx_l+1]) / 9\n",
    "        averages.append(avg)\n",
    "        if avg * 100 > 50.5:\n",
    "            hotspots.append((m1, l1, acc, avg))\n",
    "            \n",
    "    return scores, potential_hotspots, hotspots, preds_array, actuals_array, accuracy_scores, averages"
   ]
  },
  {
   "cell_type": "code",
   "execution_count": 518,
   "id": "9152edd5",
   "metadata": {},
   "outputs": [],
   "source": [
    "m_start, m_end = 5, 100\n",
    "l_start, l_end = 2, 12\n",
    "data_arr_samp = data_arr[:, -730:]  # Assuming 252 trading days per year"
   ]
  },
  {
   "cell_type": "code",
   "execution_count": 542,
   "id": "f9ff4dd8",
   "metadata": {},
   "outputs": [
    {
     "name": "stderr",
     "output_type": "stream",
     "text": [
      "/var/folders/h_/72q4z_1n5nn46z4ptpqc7y4h0000gn/T/ipykernel_55873/2942774990.py:17: RuntimeWarning: invalid value encountered in log\n",
      "  D = np.diag(np.exp(np.log(evals) * t))\n"
     ]
    }
   ],
   "source": [
    "scores, potential_hotspots, hotspots, preds_array, actuals_array, accuracy_scores, averages = find_hotspot(data_arr_samp, m_start, m_end, l_start, l_end)"
   ]
  },
  {
   "cell_type": "code",
   "execution_count": 520,
   "id": "72beaf2d",
   "metadata": {},
   "outputs": [
    {
     "data": {
      "text/plain": [
       "15"
      ]
     },
     "execution_count": 520,
     "metadata": {},
     "output_type": "execute_result"
    }
   ],
   "source": [
    "len(potential_hotspots)"
   ]
  },
  {
   "cell_type": "code",
   "execution_count": 522,
   "id": "aada4b52",
   "metadata": {},
   "outputs": [
    {
     "name": "stdout",
     "output_type": "stream",
     "text": [
      "Top 5 potential hotspots:\n"
     ]
    },
    {
     "data": {
      "text/plain": [
       "[(98, 3, np.float64(0.532010582010582)),\n",
       " (35, 2, np.float64(0.5305795709253922)),\n",
       " (33, 7, np.float64(0.5284324728769173)),\n",
       " (9, 7, np.float64(0.5279593318809005)),\n",
       " (26, 3, np.float64(0.5275403608736942))]"
      ]
     },
     "execution_count": 522,
     "metadata": {},
     "output_type": "execute_result"
    }
   ],
   "source": [
    "sorted_potential_hotspots = sorted(potential_hotspots, key=lambda x: x[2], reverse=True)\n",
    "print(\"Top 5 potential hotspots:\")\n",
    "sorted_potential_hotspots[:5]"
   ]
  },
  {
   "cell_type": "code",
   "execution_count": 543,
   "id": "d31e4737",
   "metadata": {},
   "outputs": [
    {
     "data": {
      "text/plain": [
       "[(9, 3, np.float64(0.5238425925925926), np.float64(0.5084242344535451)),\n",
       " (9, 7, np.float64(0.5279593318809005), np.float64(0.5087858810811844)),\n",
       " (26, 3, np.float64(0.5275403608736942), np.float64(0.5085951851075309)),\n",
       " (32, 3, np.float64(0.5201149425287357), np.float64(0.505637386051276)),\n",
       " (33, 7, np.float64(0.5284324728769173), np.float64(0.5120053661485916)),\n",
       " (52, 8, np.float64(0.5217309145880574), np.float64(0.5052577615408302)),\n",
       " (98, 3, np.float64(0.532010582010582), np.float64(0.5118813199520974)),\n",
       " (98, 5, np.float64(0.5213844797178131), np.float64(0.5097703130239315))]"
      ]
     },
     "execution_count": 543,
     "metadata": {},
     "output_type": "execute_result"
    }
   ],
   "source": [
    "hotspots"
   ]
  },
  {
   "cell_type": "code",
   "execution_count": 548,
   "id": "95489c05",
   "metadata": {},
   "outputs": [],
   "source": [
    "def get_preds_and_actuals(m, l, m_start, l_start, l_end, preds, actuals, stock_num):\n",
    "    ''' \n",
    "    Get my prediction values and the actual values, and plot them\n",
    "    Args: \n",
    "        m: past days\n",
    "        l: prediction horizon\n",
    "        preds: preds_array from find_hospots\n",
    "        actuals: actuals_array from find_hotspots\n",
    "        stock_num (int): specific stock i want to see listed in portfolio\n",
    "    '''\n",
    "    diff = l_end - l_start\n",
    "    idx = ((m - m_start) * diff) + (l - l_start)\n",
    "    p, a = preds[idx][stock_num], actuals[idx][stock_num]\n",
    "\n",
    "    plt.plot(p, color='blue', label='preds')\n",
    "    plt.plot(a, color='red', label='actual')\n",
    "    plt.title(f'Prediction vs. Actual Prices m={m}, l={l}, stock={portfolio[stock_num]}')\n",
    "    plt.legend()\n",
    "    plt.show()\n",
    "\n",
    "    return preds[idx], actuals[idx]\n",
    "    "
   ]
  },
  {
   "cell_type": "code",
   "execution_count": 524,
   "id": "d24cc314",
   "metadata": {},
   "outputs": [
    {
     "data": {
      "image/png": "[encoded data removed]",
      "text/plain": [
       "<Figure size 800x600 with 2 Axes>"
      ]
     },
     "metadata": {},
     "output_type": "display_data"
    }
   ],
   "source": [
    "ms = sorted({m for m, l, score in accuracy_scores})\n",
    "ls = sorted({l for m, l, score in accuracy_scores})\n",
    "\n",
    "heatmap = np.zeros((len(ls), len(ms)))\n",
    "\n",
    "for (m_val, l_val, score) in accuracy_scores:\n",
    "    i = ls.index(l_val)   \n",
    "    j = ms.index(m_val) \n",
    "    heatmap[i, j] = score\n",
    "\n",
    "fig, ax = plt.subplots(figsize=(8, 6))\n",
    "im = ax.imshow(heatmap, origin='lower', aspect='auto')\n",
    "\n",
    "ax.set_xticks(np.arange(len(ms)))\n",
    "ax.set_xticklabels(ms)\n",
    "ax.set_yticks(np.arange(len(ls)))\n",
    "ax.set_yticklabels(ls)\n",
    "\n",
    "ax.set_xticks(np.arange(len(ms) + 1) - 0.5, minor=True)\n",
    "ax.set_yticks(np.arange(len(ls) + 1) - 0.5, minor=True)\n",
    "\n",
    "ax.grid(which='minor', color='white', linestyle='-', linewidth=1)\n",
    "\n",
    "ax.tick_params(which='minor', bottom=False, left=False)\n",
    "\n",
    "ax.set_xlabel('m (look-back window)')\n",
    "ax.set_ylabel('l (prediction horizon)')\n",
    "ax.set_title('Accuracy Heatmap')\n",
    "\n",
    "cbar = fig.colorbar(im, ax=ax)\n",
    "cbar.set_label('Directional Accuracy')\n",
    "\n",
    "plt.tight_layout()\n",
    "plt.show()"
   ]
  },
  {
   "cell_type": "code",
   "execution_count": 525,
   "id": "73b66fa4",
   "metadata": {},
   "outputs": [
    {
     "name": "stdout",
     "output_type": "stream",
     "text": [
      "Top 5 potential hotspots:\n"
     ]
    },
    {
     "data": {
      "text/plain": [
       "[(98, 3, np.float64(0.532010582010582)),\n",
       " (35, 2, np.float64(0.5305795709253922)),\n",
       " (33, 7, np.float64(0.5284324728769173)),\n",
       " (9, 7, np.float64(0.5279593318809005)),\n",
       " (26, 3, np.float64(0.5275403608736942))]"
      ]
     },
     "execution_count": 525,
     "metadata": {},
     "output_type": "execute_result"
    }
   ],
   "source": [
    "sorted_potential_hotspots = sorted(potential_hotspots, key=lambda x: x[2], reverse=True)\n",
    "print(\"Top 5 potential hotspots:\")\n",
    "sorted_potential_hotspots[:5]"
   ]
  },
  {
   "cell_type": "code",
   "execution_count": 544,
   "id": "2df87877",
   "metadata": {},
   "outputs": [
    {
     "data": {
      "text/plain": [
       "[(9, 3, np.float64(0.5238425925925926), np.float64(0.5084242344535451)),\n",
       " (9, 7, np.float64(0.5279593318809005), np.float64(0.5087858810811844)),\n",
       " (26, 3, np.float64(0.5275403608736942), np.float64(0.5085951851075309)),\n",
       " (32, 3, np.float64(0.5201149425287357), np.float64(0.505637386051276)),\n",
       " (33, 7, np.float64(0.5284324728769173), np.float64(0.5120053661485916)),\n",
       " (52, 8, np.float64(0.5217309145880574), np.float64(0.5052577615408302)),\n",
       " (98, 3, np.float64(0.532010582010582), np.float64(0.5118813199520974)),\n",
       " (98, 5, np.float64(0.5213844797178131), np.float64(0.5097703130239315))]"
      ]
     },
     "execution_count": 544,
     "metadata": {},
     "output_type": "execute_result"
    }
   ],
   "source": [
    "hotspots"
   ]
  },
  {
   "cell_type": "code",
   "execution_count": 549,
   "id": "38d70184",
   "metadata": {},
   "outputs": [
    {
     "data": {
      "image/png": "[encoded data removed]",
      "text/plain": [
       "<Figure size 640x480 with 1 Axes>"
      ]
     },
     "metadata": {},
     "output_type": "display_data"
    }
   ],
   "source": [
    "preds, actuals = get_preds_and_actuals(26, 3, m_start, l_start, l_end, preds_array, actuals_array, 5)"
   ]
  },
  {
   "cell_type": "markdown",
   "id": "30cafa89",
   "metadata": {},
   "source": [
    "I want to compare 2 strategies based on their P&L. \n",
    "\n",
    "- Strategy 1: split up 10 years of data into 100 day increments. Then find a hotspot using the first 100 days, invest l future days; recalibrate the hotspot after l days, and repeat on 10 years of data.\n",
    "- Strategy 2: Find a hotspot over 2 years of data, then use that hotspot for the next 6 months or something. Then recalibrate.\n",
    "- Strategy 3: Find a hotspot over 10 years, and use the same hotspot for the next 200 days.\n",
    "\n",
    "Further Exploration:\n",
    "- Among identified hotspots, when is it better to use window that has the highest average of neighbors vs window that has highest individual accuracy score\n",
    "\n",
    "Compare all these to the benchmark S&P 500."
   ]
  },
  {
   "cell_type": "code",
   "execution_count": 97,
   "id": "0b96c8b5",
   "metadata": {},
   "outputs": [],
   "source": [
    "def strategy_1(portfolio):\n",
    "    '''\n",
    "    Strategy 1: split up 10 years of data into 100 day increments.\n",
    "    Then find a hotspot using the first 100 days, invest l future days; \n",
    "    recalibrate the hotspot after l days, and repeat on 10 years of data.\n",
    "    '''\n",
    "    hist_data_10_yrs = get_close_prices(portfolio)\n",
    "    n = hist_data_10_yrs.shape[1]\n",
    "    hist_data_10_yrs = hist_data_10_yrs[:, n//2:] # Use only the most recent 10 years of data\n",
    "\n",
    "    delta = 0\n",
    "    while delta < hist_data_10_yrs.shape[1]-100: #can adjust this 100 to change the number of days used to find hotspots\n",
    "        data_arr = hist_data_10_yrs[:, delta:delta+100]\n",
    "        accuracy_scores, potential_hotspots = find_hotspot(data_arr)\n",
    "        if potential_hotspots:\n",
    "            sorted_by_score = sorted(potential_hotspots, key=lambda tpl: tpl[2], reverse=True)\n",
    "            #here we can build and call a function that checks if the average of its neighbors are also > 51% \n",
    "            #for now will just take the highest accuracy score and use the corresponding (m,l) as the hotspot\n",
    "            m, l, accuracy = sorted_by_score[0]\n",
    "            #build and call a function that invests and tracks P&L using (m,l) hotspot\n",
    "            delta += l"
   ]
  },
  {
   "cell_type": "code",
   "execution_count": 164,
   "id": "154e32ff",
   "metadata": {},
   "outputs": [
    {
     "data": {
      "text/plain": [
       "[(6, 5, np.float64(0.5263888888888889)),\n",
       " (6, 6, np.float64(0.5320000000000001)),\n",
       " (8, 3, np.float64(0.5316666666666666)),\n",
       " (8, 9, np.float64(0.55375)),\n",
       " (12, 9, np.float64(0.523611111111111)),\n",
       " (13, 5, np.float64(0.6102941176470588)),\n",
       " (13, 7, np.float64(0.575)),\n",
       " (13, 8, np.float64(0.5557142857142858)),\n",
       " (14, 7, np.float64(0.5541666666666666)),\n",
       " (14, 8, np.float64(0.5314285714285714)),\n",
       " (14, 9, np.float64(0.5472222222222222))]"
      ]
     },
     "execution_count": 164,
     "metadata": {},
     "output_type": "execute_result"
    }
   ],
   "source": [
    "potential_hotspots"
   ]
  },
  {
   "cell_type": "code",
   "execution_count": null,
   "id": "381e3999",
   "metadata": {},
   "outputs": [
    {
     "data": {
      "image/png": "[encoded data removed]",
      "text/plain": [
       "<Figure size 800x600 with 2 Axes>"
      ]
     },
     "metadata": {},
     "output_type": "display_data"
    }
   ],
   "source": []
  },
  {
   "cell_type": "code",
   "execution_count": null,
   "id": "3a4f6dfc",
   "metadata": {},
   "outputs": [],
   "source": []
  }
 ],
 "metadata": {
  "kernelspec": {
   "display_name": ".venv",
   "language": "python",
   "name": "python3"
  },
  "language_info": {
   "codemirror_mode": {
    "name": "ipython",
    "version": 3
   },
   "file_extension": ".py",
   "mimetype": "text/x-python",
   "name": "python",
   "nbconvert_exporter": "python",
   "pygments_lexer": "ipython3",
   "version": "3.13.1"
  }
 },
 "nbformat": 4,
 "nbformat_minor": 5
}
